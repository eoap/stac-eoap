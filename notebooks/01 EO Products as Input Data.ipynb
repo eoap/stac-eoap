{
 "cells": [
  {
   "cell_type": "markdown",
   "metadata": {},
   "source": [
    "# EO Products as Input Data\n",
    "\n",
    "To support Applications that required the input EO Products to be previously staged-in, the _Best Practice for Earth Observation Application Package_ recommends the usage of a STAC Catalog with STAC Item files as the format of the data manifest.\n",
    "\n",
    "The command-line tool must have an argument that represents the path to the folder where the STAC Catalog file is located. The input products are defined by the STAC Catalog with one or more STAC Items (and associated STAC Assets) as input files for processing.\n",
    "\n",
    "The Application is a wrapper command-line tool that reads the STAC Catalog, selects the input Item Assets href and executes another command-line tool taking as argument the asset href (i.e. path to local file)."
   ]
  },
  {
   "cell_type": "markdown",
   "metadata": {},
   "source": [
    "Let's create a simple commnd line tool using `click` that accepts a folder as input to the command line argument `--input-item`"
   ]
  },
  {
   "cell_type": "code",
   "execution_count": 1,
   "metadata": {},
   "outputs": [],
   "source": [
    "import os\n",
    "import click\n",
    "import pystac\n",
    "from click.testing import CliRunner\n"
   ]
  },
  {
   "cell_type": "code",
   "execution_count": 2,
   "metadata": {},
   "outputs": [],
   "source": [
    "@click.command(\n",
    "    short_help=\"Crop\",\n",
    "    help=\"Crops an input product\",\n",
    ")\n",
    "@click.option(\n",
    "    \"--input-item\",\n",
    "    \"staged_data\",\n",
    "    help=\"staged STAC catalog\",\n",
    "    type=click.Path(exists=True),\n",
    "    required=True,\n",
    ")\n",
    "def crop(staged_data):\n",
    "    print(f\"Reading STAC catalog found in {staged_data}\")\n",
    "    \n",
    "    catalog = pystac.read_file(os.path.join(staged_data, \"catalog.json\"))\n",
    "    item = next(catalog.get_items())\n",
    "    \n",
    "    print(item)\n",
    "    for key, asset in item.get_assets():\n",
    "        print(key, asset.href)"
   ]
  },
  {
   "cell_type": "markdown",
   "metadata": {},
   "source": [
    "Let's print the command line tool help:"
   ]
  },
  {
   "cell_type": "code",
   "execution_count": 3,
   "metadata": {},
   "outputs": [
    {
     "name": "stdout",
     "output_type": "stream",
     "text": [
      "Usage: crop [OPTIONS]\n",
      "\n",
      "  Crops an input product\n",
      "\n",
      "Options:\n",
      "  --input-item PATH  staged STAC catalog  [required]\n",
      "  --help             Show this message and exit.\n",
      "\n"
     ]
    }
   ],
   "source": [
    "\n",
    "runner = CliRunner()\n",
    "result = runner.invoke(crop, ['--help'])\n",
    "\n",
    "print(result.output)"
   ]
  },
  {
   "cell_type": "markdown",
   "metadata": {},
   "source": [
    "Now, stage a Landsat-9 product according to _Best Practice for Earth Observation Application Package_:"
   ]
  },
  {
   "cell_type": "code",
   "execution_count": 4,
   "metadata": {},
   "outputs": [],
   "source": [
    "import pystac\n",
    "import stac_asset\n",
    "import asyncio\n",
    "import os\n",
    "import nest_asyncio\n",
    "nest_asyncio.apply()"
   ]
  },
  {
   "cell_type": "code",
   "execution_count": 5,
   "metadata": {},
   "outputs": [],
   "source": [
    "config = stac_asset.Config(warn=True)\n",
    "\n",
    "async def stage(href: str):\n",
    "\n",
    "    item = pystac.read_file(href)\n",
    "\n",
    "    os.makedirs(item.id, exist_ok=True)\n",
    "    cwd = os.getcwd()\n",
    "\n",
    "    os.chdir(item.id)\n",
    "    item = await stac_asset.download_item(item=item, directory=\".\", config=config)\n",
    "    os.chdir(cwd)\n",
    "\n",
    "    cat = pystac.Catalog(\n",
    "        id=\"catalog\",\n",
    "        description=f\"catalog with staged {item.id}\",\n",
    "        title=f\"catalog with staged {item.id}\",\n",
    "    )\n",
    "    cat.add_item(item)\n",
    "\n",
    "    cat.normalize_hrefs(\"./\")\n",
    "    cat.save(catalog_type=pystac.CatalogType.SELF_CONTAINED)\n",
    "\n",
    "    return cat\n"
   ]
  },
  {
   "cell_type": "markdown",
   "metadata": {},
   "source": [
    "Stage a Landsat-9 scene from Microsoft Planetary Computer:"
   ]
  },
  {
   "cell_type": "code",
   "execution_count": 6,
   "metadata": {},
   "outputs": [],
   "source": [
    "href = \"https://planetarycomputer.microsoft.com/api/stac/v1/collections/landsat-c2-l2/items/LC09_L2SP_042033_20231015_02_T1\"\n",
    "\n",
    "cat = asyncio.run(stage(href))"
   ]
  },
  {
   "cell_type": "markdown",
   "metadata": {},
   "source": [
    "Inspect the staged STAC Catalog:"
   ]
  },
  {
   "cell_type": "code",
   "execution_count": 7,
   "metadata": {},
   "outputs": [
    {
     "name": "stdout",
     "output_type": "stream",
     "text": [
      "* <Catalog id=catalog>\n",
      "  * <Item id=LC09_L2SP_042033_20231015_02_T1>\n"
     ]
    }
   ],
   "source": [
    "cat.describe()"
   ]
  },
  {
   "cell_type": "markdown",
   "metadata": {},
   "source": [
    "Now run the `crop` command line tool with the staged STAC Catalog:"
   ]
  },
  {
   "cell_type": "code",
   "execution_count": 8,
   "metadata": {},
   "outputs": [
    {
     "name": "stdout",
     "output_type": "stream",
     "text": [
      "Reading STAC catalog found in ./\n",
      "<Item id=LC09_L2SP_042033_20231015_02_T1>\n",
      "\n"
     ]
    }
   ],
   "source": [
    "runner = CliRunner()\n",
    "result = runner.invoke(crop, ['--input-item', \"./\"])\n",
    "\n",
    "print(result.output)"
   ]
  },
  {
   "cell_type": "markdown",
   "metadata": {},
   "source": [
    "The command-line tool reads the input EO product from the assets of the items included in the STAC Catalog file (catalog.json) in the specified directory.\n",
    "\n",
    "The STAC items can be selected by the tool according to their respective metadata (e.g. bands, format, time).\n",
    "\n",
    "Inside each STAC Item feature there are the corresponding STAC Assets for the product files (e.g. bands). The STAC Asset contains a link to the file associated with the STAC Item that can be downloaded or streamed (e.g. data, metadata, thumbnails) and can contain additional metadata."
   ]
  },
  {
   "cell_type": "code",
   "execution_count": 9,
   "metadata": {},
   "outputs": [
    {
     "name": "stdout",
     "output_type": "stream",
     "text": [
      "qa ./LC09_L2SP_042033_20231015_20231016_02_T1_ST_QA.TIF image/tiff; application=geotiff; profile=cloud-optimized ['data']\n",
      "ang ./LC09_L2SP_042033_20231015_20231016_02_T1_ANG.txt text/plain ['metadata']\n",
      "red ./LC09_L2SP_042033_20231015_20231016_02_T1_SR_B4.TIF image/tiff; application=geotiff; profile=cloud-optimized ['data', 'reflectance']\n",
      "blue ./LC09_L2SP_042033_20231015_20231016_02_T1_SR_B2.TIF image/tiff; application=geotiff; profile=cloud-optimized ['data', 'reflectance']\n",
      "drad ./LC09_L2SP_042033_20231015_20231016_02_T1_ST_DRAD.TIF image/tiff; application=geotiff; profile=cloud-optimized ['data']\n",
      "emis ./LC09_L2SP_042033_20231015_20231016_02_T1_ST_EMIS.TIF image/tiff; application=geotiff; profile=cloud-optimized ['data']\n",
      "emsd ./LC09_L2SP_042033_20231015_20231016_02_T1_ST_EMSD.TIF image/tiff; application=geotiff; profile=cloud-optimized ['data']\n",
      "trad ./LC09_L2SP_042033_20231015_20231016_02_T1_ST_TRAD.TIF image/tiff; application=geotiff; profile=cloud-optimized ['data']\n",
      "urad ./LC09_L2SP_042033_20231015_20231016_02_T1_ST_URAD.TIF image/tiff; application=geotiff; profile=cloud-optimized ['data']\n",
      "atran ./LC09_L2SP_042033_20231015_20231016_02_T1_ST_ATRAN.TIF image/tiff; application=geotiff; profile=cloud-optimized ['data']\n",
      "cdist ./LC09_L2SP_042033_20231015_20231016_02_T1_ST_CDIST.TIF image/tiff; application=geotiff; profile=cloud-optimized ['data']\n",
      "green ./LC09_L2SP_042033_20231015_20231016_02_T1_SR_B3.TIF image/tiff; application=geotiff; profile=cloud-optimized ['data', 'reflectance']\n",
      "nir08 ./LC09_L2SP_042033_20231015_20231016_02_T1_SR_B5.TIF image/tiff; application=geotiff; profile=cloud-optimized ['data', 'reflectance']\n",
      "lwir11 ./LC09_L2SP_042033_20231015_20231016_02_T1_ST_B10.TIF image/tiff; application=geotiff; profile=cloud-optimized ['data', 'temperature']\n",
      "swir16 ./LC09_L2SP_042033_20231015_20231016_02_T1_SR_B6.TIF image/tiff; application=geotiff; profile=cloud-optimized ['data', 'reflectance']\n",
      "swir22 ./LC09_L2SP_042033_20231015_20231016_02_T1_SR_B7.TIF image/tiff; application=geotiff; profile=cloud-optimized ['data', 'reflectance']\n",
      "coastal ./LC09_L2SP_042033_20231015_20231016_02_T1_SR_B1.TIF image/tiff; application=geotiff; profile=cloud-optimized ['data', 'reflectance']\n",
      "mtl.txt ./LC09_L2SP_042033_20231015_20231016_02_T1_MTL.txt text/plain ['metadata']\n",
      "mtl.xml ./LC09_L2SP_042033_20231015_20231016_02_T1_MTL.xml application/xml ['metadata']\n",
      "mtl.json ./LC09_L2SP_042033_20231015_20231016_02_T1_MTL.json application/json ['metadata']\n",
      "qa_pixel ./LC09_L2SP_042033_20231015_20231016_02_T1_QA_PIXEL.TIF image/tiff; application=geotiff; profile=cloud-optimized ['cloud', 'cloud-shadow', 'snow-ice', 'water-mask']\n",
      "qa_radsat ./LC09_L2SP_042033_20231015_20231016_02_T1_QA_RADSAT.TIF image/tiff; application=geotiff; profile=cloud-optimized ['saturation']\n",
      "qa_aerosol ./LC09_L2SP_042033_20231015_20231016_02_T1_SR_QA_AEROSOL.TIF image/tiff; application=geotiff; profile=cloud-optimized ['data-mask', 'water-mask']\n",
      "tilejson ./tilejson.json application/json ['tiles']\n",
      "rendered_preview ./preview.png image/png ['overview']\n"
     ]
    }
   ],
   "source": [
    "item = next(cat.get_items())\n",
    "\n",
    "for key, asset in item.get_assets().items():\n",
    "    print(key, asset.href, asset.media_type, asset.roles)"
   ]
  },
  {
   "cell_type": "code",
   "execution_count": null,
   "metadata": {},
   "outputs": [],
   "source": []
  }
 ],
 "metadata": {
  "kernelspec": {
   "display_name": "Python 3",
   "language": "python",
   "name": "python3"
  },
  "language_info": {
   "codemirror_mode": {
    "name": "ipython",
    "version": 3
   },
   "file_extension": ".py",
   "mimetype": "text/x-python",
   "name": "python",
   "nbconvert_exporter": "python",
   "pygments_lexer": "ipython3",
   "version": "3.12.5"
  }
 },
 "nbformat": 4,
 "nbformat_minor": 2
}
