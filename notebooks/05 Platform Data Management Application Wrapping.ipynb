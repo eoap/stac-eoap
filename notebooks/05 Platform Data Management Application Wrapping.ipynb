{
 "cells": [
  {
   "cell_type": "markdown",
   "metadata": {},
   "source": [
    "# Wrapping an Application Package using EOEPCA's cwl-wrapper\n",
    "\n",
    "This notebook uses the Python kernel."
   ]
  },
  {
   "cell_type": "code",
   "execution_count": 1,
   "metadata": {},
   "outputs": [],
   "source": [
    "\n",
    "import argparse\n",
    "import yaml\n",
    "import json\n",
    "import graphviz\n",
    "import pandas as pd\n",
    "from io import StringIO\n",
    "from click.testing import CliRunner\n",
    "from cwl_wrapper.app import main as cwl_wrapper_main\n",
    "from cwltool.main import main as cwltool_main\n",
    "from cwl_wrapper.parser import Parser\n",
    "from cwl_utils.parser import load_document_by_yaml\n",
    "from ruamel.yaml import YAML"
   ]
  },
  {
   "cell_type": "markdown",
   "metadata": {},
   "source": [
    "Let's display the Water bodies detection Application Package:"
   ]
  },
  {
   "cell_type": "code",
   "execution_count": null,
   "metadata": {},
   "outputs": [],
   "source": [
    "parsed_args = argparse.Namespace(print_dot=True, workflow=\"cwl-workflow/app-water-bodies.cwl#main\", enable_ext=True)\n",
    "\n",
    "stream_out = StringIO()\n",
    "stream_err = StringIO()\n",
    "\n",
    "res = cwltool_main(\n",
    "    args=parsed_args,\n",
    "    stdout=stream_out,\n",
    ")\n",
    "assert res == 0\n",
    "graphviz.Source(stream_out.getvalue())"
   ]
  },
  {
   "cell_type": "markdown",
   "metadata": {},
   "source": [
    "This Application Package has a parameter, `main/item` of type `Directory`:"
   ]
  },
  {
   "cell_type": "code",
   "execution_count": 6,
   "metadata": {},
   "outputs": [],
   "source": [
    "def read_cwl_file(cwl_file_path):\n",
    "\n",
    "    yaml = YAML(typ=\"safe\")\n",
    "    \n",
    "    # Load the CWL document\n",
    "    with open(cwl_file_path, 'r') as file:\n",
    "        cwl_data = yaml.load(file)\n",
    "        cwl_obj = load_document_by_yaml(cwl_data, \"io://\")\n",
    "\n",
    "    return cwl_obj\n",
    "\n",
    "def get_inputs(cwl_file_path):\n",
    "    \n",
    "    cwl_obj = read_cwl_file(cwl_file_path)\n",
    "\n",
    "    # Collect inputs details\n",
    "    inputs_data = []\n",
    "    for input in cwl_obj.inputs:\n",
    "        input_data = {\n",
    "            \"ID\": input.id,\n",
    "            \"Type\": input.type_,\n",
    "            \"Doc\": input.doc if input.doc else \"N/A\",\n",
    "            \"Label\": input.label if input.label else \"N/A\"\n",
    "            \n",
    "        }\n",
    "        inputs_data.append(input_data)\n",
    "    \n",
    "    # Create DataFrame\n",
    "    df = pd.DataFrame(inputs_data)\n",
    "    return df\n",
    "\n",
    "def get_outputs(cwl_file_path):\n",
    "    \n",
    "    cwl_obj = read_cwl_file(cwl_file_path)\n",
    "    \n",
    "    # Collect outputs details\n",
    "    outputs_data = []\n",
    "    for output in cwl_obj.outputs:\n",
    "        output_data = {\n",
    "            \"ID\": output.id,\n",
    "            \"Doc\": output.doc if output.doc else \"N/A\",\n",
    "            \"Label\": output.label if output.label else \"N/A\",\n",
    "            \"Type\": output.type_\n",
    "        }\n",
    "        outputs_data.append(output_data)\n",
    "    \n",
    "    # Create DataFrame\n",
    "    df = pd.DataFrame(outputs_data)\n",
    "    return df\n"
   ]
  },
  {
   "cell_type": "code",
   "execution_count": null,
   "metadata": {},
   "outputs": [],
   "source": [
    "\n",
    "cwl_file = \"cwl-workflow/app-water-bodies.cwl\"\n",
    "\n",
    "# Display the DataFrame as a table\n",
    "display(get_inputs(cwl_file))"
   ]
  },
  {
   "cell_type": "markdown",
   "metadata": {},
   "source": [
    "And we inspect the outputs:"
   ]
  },
  {
   "cell_type": "code",
   "execution_count": null,
   "metadata": {},
   "outputs": [],
   "source": [
    "display(get_outputs(cwl_file))"
   ]
  },
  {
   "cell_type": "markdown",
   "metadata": {},
   "source": [
    "Let's wrap this Application Package using EOEPCA's cwl-wrapper utility."
   ]
  },
  {
   "cell_type": "markdown",
   "metadata": {},
   "source": [
    "The cwl-wrapper utility requires a few templates. \n",
    "\n",
    "We'll look at the `cwl-wrapper/conf/stage-in.cwl` and `cwl-wrapper/conf/stage-out.cwl` as these control the stage-in and stage-out. "
   ]
  },
  {
   "cell_type": "code",
   "execution_count": null,
   "metadata": {},
   "outputs": [],
   "source": [
    "display(get_inputs(\"cwl-wrapper/conf/stage-in.cwl\"))"
   ]
  },
  {
   "cell_type": "code",
   "execution_count": null,
   "metadata": {},
   "outputs": [],
   "source": [
    "display(get_outputs(\"cwl-wrapper/conf/stage-in.cwl\"))"
   ]
  },
  {
   "cell_type": "code",
   "execution_count": null,
   "metadata": {},
   "outputs": [],
   "source": [
    "display(get_inputs(\"cwl-wrapper/conf/stage-out.cwl\"))"
   ]
  },
  {
   "cell_type": "code",
   "execution_count": null,
   "metadata": {},
   "outputs": [],
   "source": [
    "display(get_outputs(\"cwl-wrapper/conf/stage-out.cwl\"))"
   ]
  },
  {
   "cell_type": "markdown",
   "metadata": {},
   "source": [
    "Now let's invoke cwl-wrapper with this configuration:"
   ]
  },
  {
   "cell_type": "code",
   "execution_count": null,
   "metadata": {},
   "outputs": [],
   "source": [
    "\n",
    "runner = CliRunner()\n",
    "result = runner.invoke(cwl_wrapper_main, ['--help'])\n",
    "\n",
    "print(result.output)"
   ]
  },
  {
   "cell_type": "code",
   "execution_count": null,
   "metadata": {},
   "outputs": [],
   "source": [
    "arguments = [\"--maincwl\", \"cwl-wrapper/conf/main.yaml\",\n",
    "             \"--rulez\", \"cwl-wrapper/conf/rules.yaml\", \n",
    "             \"--stagein\", \"cwl-wrapper/conf/stage-in.cwl\", \n",
    "             \"--stageout\", \"cwl-wrapper/conf/stage-out.cwl\",\n",
    "             \"cwl-workflow/app-water-bodies.cwl\"]\n",
    "\n",
    "runner = CliRunner()\n",
    "result = runner.invoke(cwl_wrapper_main, args=arguments)\n",
    "\n",
    "print(result.output)"
   ]
  },
  {
   "cell_type": "code",
   "execution_count": 84,
   "metadata": {},
   "outputs": [],
   "source": [
    "# save the output to a file\n",
    "with open(\"w.cwl\", \"w\") as f:\n",
    "    f.write(result.output)"
   ]
  },
  {
   "cell_type": "code",
   "execution_count": null,
   "metadata": {},
   "outputs": [],
   "source": [
    "parsed_args = argparse.Namespace(print_dot=True, workflow=\"w.cwl#wrapped\", enable_ext=True)\n",
    "\n",
    "stream_out = StringIO()\n",
    "stream_err = StringIO()\n",
    "\n",
    "res = cwltool_main(\n",
    "    args=parsed_args,\n",
    "    stdout=stream_out,\n",
    ")\n",
    "assert res == 0\n",
    "graphviz.Source(stream_out.getvalue())"
   ]
  },
  {
   "cell_type": "code",
   "execution_count": null,
   "metadata": {},
   "outputs": [],
   "source": []
  },
  {
   "cell_type": "markdown",
   "metadata": {},
   "source": [
    "**What happened?**\n",
    "\n",
    "The wrapped CWL Workflow includes two additional steps:\n",
    "* `wrapped/node_stage_in` that:\n",
    "    * reads the `wrapped/item` parameter that is now a `string` (reference to a Landsat-9 acquisition catalog entry)\n",
    "    * stages the Landsat-9 acquisition catalog entry as a STAC catalog\n",
    "    * passes the resulting `Directory` to the `Water bodies detection based on NDWU and the otsu threshold` Workflow step\n",
    "* `wrapped/node_stage_out` that:\n",
    "    * reads the stage-out parameters:\n",
    "        * `wrapped/aws_access_key_id`: the Platform AWS access key for the target S3 bucket\n",
    "        * `wrapped/aws_secret_access_id`: the Platform AWS secret access key for the target S3 bucket\n",
    "        * `wrapped/endpoint_url`: the  Platform S3 object storage service URL\n",
    "        * `wrapped/region_name`: the Platorm S3 object storage region\n",
    "        * `wrapped/bucket`: the Platorm S3 object storage bucket for the results\n",
    "        * `wrapped/sub_path`: the Platorm S3 object storage bucket for the results\n",
    "    * reads the `Water bodies detection based on NDWU and the otsu threshold` Workflow step results (type `Directory`)\n",
    "    * pushes the STAC Catalog to S3\n",
    "    * produces as output the `S3 catalog.json` URL (and `Water bodies detection based on NDWU and the otsu threshold` `stac_catalog` result)"
   ]
  },
  {
   "cell_type": "markdown",
   "metadata": {},
   "source": [
    "### Running the wrapped \n",
    "\n",
    "At runtime, the Platform provides the additional parameters `aws_access_key_id`, `aws_secret_access_key`, `endpoint_url`, `s3_bucket`, `sub_path` and `region_name`.\n",
    "\n",
    "Instead the Platform user selects the parameters `item` as a reference to a Landsat-9 acquisition catalog entry and the remaining Application Package input parameters `aoi` and `band`.\n",
    "\n",
    "It is up to the Platform to ensure the stage-in and stage-out steps parameters are managed.   "
   ]
  },
  {
   "cell_type": "markdown",
   "metadata": {},
   "source": [
    "We'll use `cwltool` to run the wrapped application package.\n",
    "\n",
    "For that, we'll create a `params.yaml` file with the parameters:"
   ]
  },
  {
   "cell_type": "code",
   "execution_count": 30,
   "metadata": {},
   "outputs": [],
   "source": [
    "arguments = {\"item\": \"https://planetarycomputer.microsoft.com/api/stac/v1/collections/landsat-c2-l2/items/LC09_L2SP_042033_20231015_02_T1\",\n",
    "             \"aoi\": \"-118.985,38.432,-118.183,38.938\",\n",
    "             \"bands\": [\"green\", \"nir08\"], \n",
    "             \"aws_access_key_id\": \"test\", \n",
    "             \"aws_secret_access_key\": \"test\",\n",
    "             \"endpoint_url\": \"http://localstack:4566\", \n",
    "                \"s3_bucket\": \"results\",\n",
    "                 \"sub_path\": \"run-005\", \n",
    "                 \"region_name\": \"us-east-1\"}\n",
    "\n",
    "# create the YAML parameter file\n",
    "with open(\"params.yaml\", \"w\") as f:\n",
    "    f.write(yaml.dump(arguments))"
   ]
  },
  {
   "cell_type": "markdown",
   "metadata": {},
   "source": [
    "And invoke `cwltool`:"
   ]
  },
  {
   "cell_type": "code",
   "execution_count": null,
   "metadata": {},
   "outputs": [],
   "source": [
    "parsed_args = argparse.Namespace(workflow=\"w.cwl#wrapped\", enable_ext=True, job_order=[\"params.yaml\"], podman=True)\n",
    "\n",
    "stream_out = StringIO()\n",
    "stream_err = StringIO()\n",
    "\n",
    "res = cwltool_main(\n",
    "    args=parsed_args,\n",
    "    stdout=stream_out,\n",
    "    stderr=stream_err,\n",
    ")\n",
    "assert res == 0"
   ]
  },
  {
   "cell_type": "markdown",
   "metadata": {},
   "source": [
    "Now we can inspect the results and verify there's an S3 URL pointing to the staged-out STAC `catalog.json`:"
   ]
  },
  {
   "cell_type": "code",
   "execution_count": null,
   "metadata": {},
   "outputs": [],
   "source": [
    "results = json.loads(stream_out.getvalue())\n",
    "\n",
    "results"
   ]
  },
  {
   "cell_type": "markdown",
   "metadata": {},
   "source": [
    "## Extra - Using cwl-wrapper Python API\n",
    "\n",
    "`cwl-wrapper` can be invoked in a Python application with:"
   ]
  },
  {
   "cell_type": "code",
   "execution_count": 17,
   "metadata": {},
   "outputs": [],
   "source": [
    "workflow_id = \"main\"\n",
    "\n",
    "wf = Parser(\n",
    "    cwl=\"cwl-workflow/app-water-bodies.cwl\",\n",
    "    output=None,\n",
    "    stagein=\"cwl-wrapper/conf/stage-in.cwl\",\n",
    "    stageout=\"cwl-wrapper/conf/stage-out.cwl\",\n",
    "    maincwl=\"cwl-wrapper/conf/main.yaml\",\n",
    "    rulez=\"cwl-wrapper/conf/rules.yaml\",\n",
    "    assets=None,\n",
    "    workflow_id=workflow_id,\n",
    ")"
   ]
  },
  {
   "cell_type": "code",
   "execution_count": null,
   "metadata": {},
   "outputs": [],
   "source": [
    "wf.out"
   ]
  },
  {
   "cell_type": "code",
   "execution_count": null,
   "metadata": {},
   "outputs": [],
   "source": []
  }
 ],
 "metadata": {
  "kernelspec": {
   "display_name": "Python 3",
   "language": "python",
   "name": "python3"
  },
  "language_info": {
   "codemirror_mode": {
    "name": "ipython",
    "version": 3
   },
   "file_extension": ".py",
   "mimetype": "text/x-python",
   "name": "python",
   "nbconvert_exporter": "python",
   "pygments_lexer": "ipython3",
   "version": "3.11.10"
  }
 },
 "nbformat": 4,
 "nbformat_minor": 2
}
