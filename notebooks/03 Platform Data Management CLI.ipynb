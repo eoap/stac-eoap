{
 "cells": [
  {
   "cell_type": "markdown",
   "metadata": {},
   "source": [
    "# Platform data management using command line tools\n",
    "\n"
   ]
  },
  {
   "cell_type": "markdown",
   "metadata": {},
   "source": [
    "## Application \n",
    "\n",
    "The application below is a Python CLI that detects water bodies using the NDWI spectral index and the Otsu threshold.\n",
    "\n",
    "In this context it represents the application that is then included in an Application Package encoded in CWL."
   ]
  },
  {
   "cell_type": "code",
   "execution_count": 20,
   "metadata": {},
   "outputs": [],
   "source": [
    "import os\n",
    "import anyio\n",
    "import asyncclick as clicka\n",
    "import click\n",
    "import pystac\n",
    "import rasterio\n",
    "from skimage.filters import threshold_otsu\n",
    "from rasterio.mask import mask\n",
    "from pyproj import Transformer\n",
    "from shapely import box\n",
    "from loguru import logger\n",
    "import rasterio\n",
    "import pystac\n",
    "import shutil\n",
    "import rio_stac\n",
    "import numpy as np\n",
    "\n",
    "np.seterr(divide=\"ignore\", invalid=\"ignore\")\n",
    "\n",
    "\n",
    "def crop(asset: pystac.Asset, bbox, epsg):\n",
    "    \"\"\"_summary_\n",
    "\n",
    "    Args:\n",
    "        asset (_type_): _description_\n",
    "        bbox (_type_): _description_\n",
    "        epsg (_type_): _description_\n",
    "\n",
    "    Returns:\n",
    "        _type_: _description_\n",
    "    \"\"\"\n",
    "    with rasterio.open(asset.get_absolute_href()) as src:\n",
    "\n",
    "        transformer = Transformer.from_crs(epsg, src.crs, always_xy=True)\n",
    "\n",
    "        minx, miny = transformer.transform(bbox[0], bbox[1])\n",
    "        maxx, maxy = transformer.transform(bbox[2], bbox[3])\n",
    "\n",
    "        transformed_bbox = box(minx, miny, maxx, maxy)\n",
    "\n",
    "        logger.info(f\"Crop {asset.get_absolute_href()}\")\n",
    "\n",
    "        out_image, out_transform = rasterio.mask.mask(\n",
    "            src, [transformed_bbox], crop=True\n",
    "        )\n",
    "        out_meta = src.meta.copy()\n",
    "\n",
    "        out_meta.update(\n",
    "            {\n",
    "                \"height\": out_image.shape[1],\n",
    "                \"width\": out_image.shape[2],\n",
    "                \"transform\": out_transform,\n",
    "            }\n",
    "        )\n",
    "\n",
    "        return out_image.astype(np.float32), out_meta\n",
    "\n",
    "\n",
    "def threshold(data):\n",
    "    \"\"\"Returns the Otsu threshold of a numpy array\"\"\"\n",
    "    return data > threshold_otsu(data[np.isfinite(data)])\n",
    "\n",
    "\n",
    "def normalized_difference(array1, array2):\n",
    "    \"\"\"Returns the normalized difference of two numpy arrays\"\"\"\n",
    "    return (array1 - array2) / (array1 + array2)\n",
    "\n",
    "\n",
    "def aoi2box(aoi):\n",
    "    \"\"\"Converts an area of interest expressed as a bounding box to a list of floats\"\"\"\n",
    "    return [float(c) for c in aoi.split(\",\")]\n",
    "\n",
    "\n",
    "def get_asset(item, common_name):\n",
    "    \"\"\"Returns the asset of a STAC Item defined with its common band name\"\"\"\n",
    "    for _, asset in item.get_assets().items():\n",
    "        if not \"data\" in asset.to_dict()[\"roles\"]:\n",
    "            continue\n",
    "\n",
    "        eo_asset = pystac.extensions.eo.AssetEOExtension(asset)\n",
    "        if not eo_asset.bands:\n",
    "            continue\n",
    "        for b in eo_asset.bands:\n",
    "            if (\n",
    "                \"common_name\" in b.properties.keys()\n",
    "                and b.properties[\"common_name\"] == common_name\n",
    "            ):\n",
    "                return asset\n",
    "\n",
    "\n",
    "@click.command(\n",
    "    short_help=\"Crop\",\n",
    "    help=\"Water bodies detection using the Normalized Difference Water Index (NDWI) and Otsu thresholding.\",\n",
    ")\n",
    "@click.option(\n",
    "    \"--input-item\",\n",
    "    \"item_url\",\n",
    "    help=\"Staged STAC catalog\",\n",
    "    required=True,\n",
    ")\n",
    "@click.option(\n",
    "    \"--aoi\",\n",
    "    \"aoi\",\n",
    "    help=\"Area of interest expressed as a bounding box\",\n",
    "    required=True,\n",
    ")\n",
    "@click.option(\n",
    "    \"--epsg\",\n",
    "    \"epsg\",\n",
    "    help=\"EPSG code\",\n",
    "    required=True,\n",
    ")\n",
    "@click.option(\n",
    "    \"--band\",\n",
    "    \"bands\",\n",
    "    help=\"Common band name\",\n",
    "    required=True,\n",
    "    multiple=True,\n",
    ")\n",
    "def water_bodies(item_url, aoi, bands, epsg):\n",
    "\n",
    "    if os.path.isdir(item_url):\n",
    "        catalog = pystac.read_file(os.path.join(item_url, \"catalog.json\"))\n",
    "        item = next(catalog.get_items())\n",
    "    else:\n",
    "        item = pystac.read_file(item_url)\n",
    "\n",
    "    logger.info(f\"Read {item.id} from {item.get_self_href()}\")\n",
    "\n",
    "    cropped_assets = {}\n",
    "\n",
    "    for band in bands:\n",
    "        asset = get_asset(item, band)\n",
    "        logger.info(f\"Read asset {band} from {asset.get_absolute_href()}\")\n",
    "\n",
    "        if not asset:\n",
    "            msg = f\"Common band name {band} not found in the assets\"\n",
    "            logger.error(msg)\n",
    "            raise ValueError(msg)\n",
    "\n",
    "        bbox = aoi2box(aoi)\n",
    "\n",
    "        out_image, out_meta = crop(asset, bbox, epsg)\n",
    "\n",
    "        cropped_assets[band] = out_image[0]\n",
    "\n",
    "    nd = normalized_difference(cropped_assets[bands[0]], cropped_assets[bands[1]])\n",
    "\n",
    "    water_bodies = threshold(nd)\n",
    "\n",
    "    out_meta.update(\n",
    "        {\n",
    "            \"dtype\": \"uint8\",\n",
    "            \"driver\": \"COG\",\n",
    "            \"tiled\": True,\n",
    "            \"compress\": \"lzw\",\n",
    "            \"blockxsize\": 256,\n",
    "            \"blockysize\": 256,\n",
    "        }\n",
    "    )\n",
    "\n",
    "    water_body = \"otsu.tif\"\n",
    "\n",
    "    with rasterio.open(water_body, \"w\", **out_meta) as dst_dataset:\n",
    "        logger.info(f\"Write otsu.tif\")\n",
    "        dst_dataset.write(water_bodies, indexes=1)\n",
    "\n",
    "    logger.info(f\"Creating a STAC Catalog\")\n",
    "    cat = pystac.Catalog(id=\"catalog\", description=\"water-bodies\")\n",
    "\n",
    "    if os.path.isdir(item_url):\n",
    "        catalog = pystac.read_file(os.path.join(item_url, \"catalog.json\"))\n",
    "        item = next(catalog.get_items())\n",
    "    else:\n",
    "        item = pystac.read_file(item_url)\n",
    "\n",
    "    os.makedirs(item.id, exist_ok=True)\n",
    "    shutil.copy(water_body, item.id)\n",
    "\n",
    "    out_item = rio_stac.stac.create_stac_item(\n",
    "        source=water_body,\n",
    "        input_datetime=item.datetime,\n",
    "        id=item.id,\n",
    "        asset_roles=[\"data\", \"visual\"],\n",
    "        asset_href=os.path.basename(water_body),\n",
    "        asset_name=\"data\",\n",
    "        with_proj=True,\n",
    "        with_raster=False,\n",
    "    )\n",
    "\n",
    "    cat.add_items([out_item])\n",
    "\n",
    "    cat.normalize_and_save(\n",
    "        root_href=\"./\", catalog_type=pystac.CatalogType.SELF_CONTAINED\n",
    "    )\n",
    "\n",
    "    os.remove(water_body)\n",
    "\n",
    "    logger.info(\"Done!\")\n"
   ]
  },
  {
   "cell_type": "markdown",
   "metadata": {},
   "source": [
    "Let's print the CLI help:"
   ]
  },
  {
   "cell_type": "code",
   "execution_count": 21,
   "metadata": {},
   "outputs": [
    {
     "name": "stdout",
     "output_type": "stream",
     "text": [
      "Usage: water-bodies [OPTIONS]\n",
      "\n",
      "  Water bodies detection using the Normalized Difference Water Index (NDWI) and\n",
      "  Otsu thresholding.\n",
      "\n",
      "Options:\n",
      "  --input-item TEXT  Staged STAC catalog  [required]\n",
      "  --aoi TEXT         Area of interest expressed as a bounding box  [required]\n",
      "  --epsg TEXT        EPSG code  [required]\n",
      "  --band TEXT        Common band name  [required]\n",
      "  --help             Show this message and exit.\n",
      "\n"
     ]
    },
    {
     "name": "stderr",
     "output_type": "stream",
     "text": [
      "/tmp/ipykernel_663/414613729.py:4: RuntimeWarning: coroutine 'BaseCommand.main' was never awaited\n",
      "  result = runner.invoke(water_bodies, ['--help'])\n",
      "RuntimeWarning: Enable tracemalloc to get the object allocation traceback\n"
     ]
    }
   ],
   "source": [
    "from click.testing import CliRunner\n",
    "\n",
    "runner = CliRunner()\n",
    "result = runner.invoke(water_bodies, ['--help'])\n",
    "\n",
    "print(result.output)"
   ]
  },
  {
   "cell_type": "markdown",
   "metadata": {},
   "source": [
    "To run this application, we'll need to stage an EO acquisition"
   ]
  },
  {
   "cell_type": "markdown",
   "metadata": {},
   "source": [
    "## Stage a Landsat-9 acquisition"
   ]
  },
  {
   "cell_type": "markdown",
   "metadata": {},
   "source": [
    "The stage-in operation as described in OGC Best Practice for EO Application Packaging targets the creation of a STAC Catalog and Item."
   ]
  },
  {
   "cell_type": "code",
   "execution_count": 22,
   "metadata": {},
   "outputs": [],
   "source": [
    "import pystac\n",
    "import stac_asset\n",
    "import asyncio\n",
    "import os\n",
    "import nest_asyncio\n",
    "nest_asyncio.apply()"
   ]
  },
  {
   "cell_type": "code",
   "execution_count": 23,
   "metadata": {},
   "outputs": [],
   "source": [
    "config = stac_asset.Config(warn=True)\n",
    "\n",
    "@clicka.command(\n",
    "    short_help=\"Stage-in\",\n",
    "    help=\"Stages a Landsat-9 acquisition\",\n",
    ")\n",
    "@clicka.option(\n",
    "    \"--href\",\n",
    "    \"href\",\n",
    "    help=\"URL to Landsat-9 catalog entry\",\n",
    "    required=True,\n",
    ")\n",
    "async def stage(href: str):\n",
    "\n",
    "    item = pystac.read_file(href)\n",
    "\n",
    "    os.makedirs(os.path.join(\"staged\", item.id), exist_ok=True)\n",
    "    cwd = os.getcwd()\n",
    "\n",
    "    os.chdir(os.path.join(\"staged\", item.id))\n",
    "    item = await stac_asset.download_item(item=item, directory=\".\", config=config)\n",
    "    os.chdir(cwd)\n",
    "    os.chdir(\"staged\")\n",
    "\n",
    "    cat = pystac.Catalog(\n",
    "        id=\"catalog\",\n",
    "        description=f\"catalog with staged {item.id}\",\n",
    "        title=f\"catalog with staged {item.id}\",\n",
    "    )\n",
    "    cat.add_item(item)\n",
    "\n",
    "    cat.normalize_hrefs(\"./\")\n",
    "    cat.save(catalog_type=pystac.CatalogType.SELF_CONTAINED)\n",
    "    os.chdir(cwd)\n",
    "    return cat"
   ]
  },
  {
   "cell_type": "markdown",
   "metadata": {},
   "source": [
    "We can print the stage-in CLI help:"
   ]
  },
  {
   "cell_type": "code",
   "execution_count": 32,
   "metadata": {},
   "outputs": [
    {
     "name": "stdout",
     "output_type": "stream",
     "text": [
      "Usage: stage [OPTIONS]\n",
      "\n",
      "  Stages a Landsat-9 acquisition\n",
      "\n",
      "Options:\n",
      "  --href TEXT  URL to Landsat-9 catalog entry  [required]\n",
      "  --help       Show this message and exit.\n",
      "\n"
     ]
    }
   ],
   "source": [
    "from asyncclick.testing import CliRunner as ACliRunner\n",
    "\n",
    "runner = ACliRunner()\n",
    "result = await(runner.invoke(stage, ['--help']))\n",
    "\n",
    "print(result.output)"
   ]
  },
  {
   "cell_type": "markdown",
   "metadata": {},
   "source": [
    "And stage a Landsat-9 acquisition:"
   ]
  },
  {
   "cell_type": "code",
   "execution_count": 33,
   "metadata": {},
   "outputs": [
    {
     "name": "stdout",
     "output_type": "stream",
     "text": [
      "\n"
     ]
    }
   ],
   "source": [
    "arguments = [\"--href\", \"https://planetarycomputer.microsoft.com/api/stac/v1/collections/landsat-c2-l2/items/LC09_L2SP_042033_20231015_02_T1\"]\n",
    "\n",
    "runner = ACliRunner()\n",
    "result = await(runner.invoke(stage, args=arguments))\n",
    "\n",
    "print(result.output)\n",
    "\n"
   ]
  },
  {
   "cell_type": "markdown",
   "metadata": {},
   "source": [
    "Inspect the staged Landsat-9 product"
   ]
  },
  {
   "cell_type": "code",
   "execution_count": 37,
   "metadata": {},
   "outputs": [
    {
     "name": "stdout",
     "output_type": "stream",
     "text": [
      "* <Catalog id=catalog>\n",
      "  * <Item id=LC09_L2SP_042033_20231015_02_T1>\n"
     ]
    }
   ],
   "source": [
    "cat = pystac.read_file(os.path.join(\"staged\", \"catalog.json\"))\n",
    "cat.describe()"
   ]
  },
  {
   "cell_type": "code",
   "execution_count": 42,
   "metadata": {},
   "outputs": [
    {
     "name": "stdout",
     "output_type": "stream",
     "text": [
      "qa /workspace/stac-eoap/notebooks/staged/LC09_L2SP_042033_20231015_02_T1/LC09_L2SP_042033_20231015_20231016_02_T1_ST_QA.TIF\n",
      "ang /workspace/stac-eoap/notebooks/staged/LC09_L2SP_042033_20231015_02_T1/LC09_L2SP_042033_20231015_20231016_02_T1_ANG.txt\n",
      "red /workspace/stac-eoap/notebooks/staged/LC09_L2SP_042033_20231015_02_T1/LC09_L2SP_042033_20231015_20231016_02_T1_SR_B4.TIF\n",
      "blue /workspace/stac-eoap/notebooks/staged/LC09_L2SP_042033_20231015_02_T1/LC09_L2SP_042033_20231015_20231016_02_T1_SR_B2.TIF\n",
      "drad /workspace/stac-eoap/notebooks/staged/LC09_L2SP_042033_20231015_02_T1/LC09_L2SP_042033_20231015_20231016_02_T1_ST_DRAD.TIF\n",
      "emis /workspace/stac-eoap/notebooks/staged/LC09_L2SP_042033_20231015_02_T1/LC09_L2SP_042033_20231015_20231016_02_T1_ST_EMIS.TIF\n",
      "emsd /workspace/stac-eoap/notebooks/staged/LC09_L2SP_042033_20231015_02_T1/LC09_L2SP_042033_20231015_20231016_02_T1_ST_EMSD.TIF\n",
      "trad /workspace/stac-eoap/notebooks/staged/LC09_L2SP_042033_20231015_02_T1/LC09_L2SP_042033_20231015_20231016_02_T1_ST_TRAD.TIF\n",
      "urad /workspace/stac-eoap/notebooks/staged/LC09_L2SP_042033_20231015_02_T1/LC09_L2SP_042033_20231015_20231016_02_T1_ST_URAD.TIF\n",
      "atran /workspace/stac-eoap/notebooks/staged/LC09_L2SP_042033_20231015_02_T1/LC09_L2SP_042033_20231015_20231016_02_T1_ST_ATRAN.TIF\n",
      "cdist /workspace/stac-eoap/notebooks/staged/LC09_L2SP_042033_20231015_02_T1/LC09_L2SP_042033_20231015_20231016_02_T1_ST_CDIST.TIF\n",
      "green /workspace/stac-eoap/notebooks/staged/LC09_L2SP_042033_20231015_02_T1/LC09_L2SP_042033_20231015_20231016_02_T1_SR_B3.TIF\n",
      "nir08 /workspace/stac-eoap/notebooks/staged/LC09_L2SP_042033_20231015_02_T1/LC09_L2SP_042033_20231015_20231016_02_T1_SR_B5.TIF\n",
      "lwir11 /workspace/stac-eoap/notebooks/staged/LC09_L2SP_042033_20231015_02_T1/LC09_L2SP_042033_20231015_20231016_02_T1_ST_B10.TIF\n",
      "swir16 /workspace/stac-eoap/notebooks/staged/LC09_L2SP_042033_20231015_02_T1/LC09_L2SP_042033_20231015_20231016_02_T1_SR_B6.TIF\n",
      "swir22 /workspace/stac-eoap/notebooks/staged/LC09_L2SP_042033_20231015_02_T1/LC09_L2SP_042033_20231015_20231016_02_T1_SR_B7.TIF\n",
      "coastal /workspace/stac-eoap/notebooks/staged/LC09_L2SP_042033_20231015_02_T1/LC09_L2SP_042033_20231015_20231016_02_T1_SR_B1.TIF\n",
      "mtl.txt /workspace/stac-eoap/notebooks/staged/LC09_L2SP_042033_20231015_02_T1/LC09_L2SP_042033_20231015_20231016_02_T1_MTL.txt\n",
      "mtl.xml /workspace/stac-eoap/notebooks/staged/LC09_L2SP_042033_20231015_02_T1/LC09_L2SP_042033_20231015_20231016_02_T1_MTL.xml\n",
      "mtl.json /workspace/stac-eoap/notebooks/staged/LC09_L2SP_042033_20231015_02_T1/LC09_L2SP_042033_20231015_20231016_02_T1_MTL.json\n",
      "qa_pixel /workspace/stac-eoap/notebooks/staged/LC09_L2SP_042033_20231015_02_T1/LC09_L2SP_042033_20231015_20231016_02_T1_QA_PIXEL.TIF\n",
      "qa_radsat /workspace/stac-eoap/notebooks/staged/LC09_L2SP_042033_20231015_02_T1/LC09_L2SP_042033_20231015_20231016_02_T1_QA_RADSAT.TIF\n",
      "qa_aerosol /workspace/stac-eoap/notebooks/staged/LC09_L2SP_042033_20231015_02_T1/LC09_L2SP_042033_20231015_20231016_02_T1_SR_QA_AEROSOL.TIF\n",
      "tilejson /workspace/stac-eoap/notebooks/staged/LC09_L2SP_042033_20231015_02_T1/tilejson.json\n",
      "rendered_preview /workspace/stac-eoap/notebooks/staged/LC09_L2SP_042033_20231015_02_T1/preview.png\n"
     ]
    }
   ],
   "source": [
    "for key, asset in next(cat.get_items()).get_assets().items():\n",
    "    print(key, asset.get_absolute_href())"
   ]
  },
  {
   "cell_type": "markdown",
   "metadata": {},
   "source": [
    "## Run the water bodies detection application using the staged Landsat-9 product\n",
    "\n"
   ]
  },
  {
   "cell_type": "code",
   "execution_count": 44,
   "metadata": {},
   "outputs": [
    {
     "name": "stdout",
     "output_type": "stream",
     "text": [
      "Usage: water-bodies [OPTIONS]\n",
      "\n",
      "  Water bodies detection using the Normalized Difference Water Index (NDWI) and\n",
      "  Otsu thresholding.\n",
      "\n",
      "Options:\n",
      "  --input-item TEXT  Staged STAC catalog  [required]\n",
      "  --aoi TEXT         Area of interest expressed as a bounding box  [required]\n",
      "  --epsg TEXT        EPSG code  [required]\n",
      "  --band TEXT        Common band name  [required]\n",
      "  --help             Show this message and exit.\n",
      "\n"
     ]
    }
   ],
   "source": [
    "from click.testing import CliRunner\n",
    "\n",
    "runner = CliRunner()\n",
    "result = runner.invoke(water_bodies, ['--help'])\n",
    "\n",
    "print(result.output)"
   ]
  },
  {
   "cell_type": "code",
   "execution_count": 45,
   "metadata": {},
   "outputs": [],
   "source": [
    "arguments = [\"--input-item\", \"./staged\",\n",
    "                \"--aoi\", \"-118.985,38.432,-118.183,38.938\",\n",
    "                \"--epsg\", \"EPSG:4326\",\n",
    "                \"--band\", \"green\",\n",
    "                \"--band\", \"nir08\"]"
   ]
  },
  {
   "cell_type": "code",
   "execution_count": 47,
   "metadata": {},
   "outputs": [
    {
     "name": "stderr",
     "output_type": "stream",
     "text": [
      "\u001b[32m2024-10-08 05:37:30.229\u001b[0m | \u001b[1mINFO    \u001b[0m | \u001b[36m__main__\u001b[0m:\u001b[36mwater_bodies\u001b[0m:\u001b[36m128\u001b[0m - \u001b[1mRead LC09_L2SP_042033_20231015_02_T1 from /workspace/stac-eoap/notebooks/staged/LC09_L2SP_042033_20231015_02_T1/LC09_L2SP_042033_20231015_02_T1.json\u001b[0m\n",
      "\u001b[32m2024-10-08 05:37:30.323\u001b[0m | \u001b[1mINFO    \u001b[0m | \u001b[36m__main__\u001b[0m:\u001b[36mwater_bodies\u001b[0m:\u001b[36m134\u001b[0m - \u001b[1mRead asset green from /workspace/stac-eoap/notebooks/staged/LC09_L2SP_042033_20231015_02_T1/LC09_L2SP_042033_20231015_20231016_02_T1_SR_B3.TIF\u001b[0m\n",
      "\u001b[32m2024-10-08 05:37:30.353\u001b[0m | \u001b[1mINFO    \u001b[0m | \u001b[36m__main__\u001b[0m:\u001b[36mcrop\u001b[0m:\u001b[36m41\u001b[0m - \u001b[1mCrop /workspace/stac-eoap/notebooks/staged/LC09_L2SP_042033_20231015_02_T1/LC09_L2SP_042033_20231015_20231016_02_T1_SR_B3.TIF\u001b[0m\n",
      "\u001b[32m2024-10-08 05:37:30.524\u001b[0m | \u001b[1mINFO    \u001b[0m | \u001b[36m__main__\u001b[0m:\u001b[36mwater_bodies\u001b[0m:\u001b[36m134\u001b[0m - \u001b[1mRead asset nir08 from /workspace/stac-eoap/notebooks/staged/LC09_L2SP_042033_20231015_02_T1/LC09_L2SP_042033_20231015_20231016_02_T1_SR_B5.TIF\u001b[0m\n",
      "\u001b[32m2024-10-08 05:37:30.540\u001b[0m | \u001b[1mINFO    \u001b[0m | \u001b[36m__main__\u001b[0m:\u001b[36mcrop\u001b[0m:\u001b[36m41\u001b[0m - \u001b[1mCrop /workspace/stac-eoap/notebooks/staged/LC09_L2SP_042033_20231015_02_T1/LC09_L2SP_042033_20231015_20231016_02_T1_SR_B5.TIF\u001b[0m\n",
      "\u001b[32m2024-10-08 05:37:30.746\u001b[0m | \u001b[1mINFO    \u001b[0m | \u001b[36m__main__\u001b[0m:\u001b[36mwater_bodies\u001b[0m:\u001b[36m165\u001b[0m - \u001b[1mWrite otsu.tif\u001b[0m\n",
      "\u001b[32m2024-10-08 05:37:30.824\u001b[0m | \u001b[1mINFO    \u001b[0m | \u001b[36m__main__\u001b[0m:\u001b[36mwater_bodies\u001b[0m:\u001b[36m168\u001b[0m - \u001b[1mCreating a STAC Catalog\u001b[0m\n",
      "\u001b[32m2024-10-08 05:37:30.842\u001b[0m | \u001b[1mINFO    \u001b[0m | \u001b[36m__main__\u001b[0m:\u001b[36mwater_bodies\u001b[0m:\u001b[36m199\u001b[0m - \u001b[1mDone!\u001b[0m\n"
     ]
    },
    {
     "name": "stdout",
     "output_type": "stream",
     "text": [
      "/opt/conda/lib/python3.9/copy.py:229: RuntimeWarning: coroutine 'stage' was never awaited\n",
      "  for key, value in x.items():\n",
      "RuntimeWarning: Enable tracemalloc to get the object allocation traceback\n",
      "\n"
     ]
    }
   ],
   "source": [
    "runner = CliRunner()\n",
    "result = runner.invoke(water_bodies, args=arguments)\n",
    "\n",
    "print(result.output)"
   ]
  },
  {
   "cell_type": "markdown",
   "metadata": {},
   "source": [
    "Inspect the generated STAC Catalog containing the application execution results:"
   ]
  },
  {
   "cell_type": "code",
   "execution_count": 49,
   "metadata": {},
   "outputs": [
    {
     "name": "stdout",
     "output_type": "stream",
     "text": [
      "* <Catalog id=catalog>\n",
      "  * <Item id=LC09_L2SP_042033_20231015_02_T1>\n"
     ]
    }
   ],
   "source": [
    "results_cat = pystac.read_file(os.path.join(\".\", \"catalog.json\")) \n",
    "\n",
    "results_cat.describe()"
   ]
  },
  {
   "cell_type": "code",
   "execution_count": 50,
   "metadata": {},
   "outputs": [
    {
     "name": "stdout",
     "output_type": "stream",
     "text": [
      "data /workspace/stac-eoap/notebooks/LC09_L2SP_042033_20231015_02_T1/otsu.tif\n"
     ]
    }
   ],
   "source": [
    "for key, asset in next(results_cat.get_items()).get_assets().items():\n",
    "    print(key, asset.get_absolute_href())"
   ]
  },
  {
   "cell_type": "markdown",
   "metadata": {},
   "source": [
    "## Stage-out \n",
    "\n",
    "The stage-out operation as described in OGC Best Practice for EO Application Packaging targets publishing the results STAC Catalog and Item to a Platform storage.\n",
    "\n",
    "This example uses an S3 object storage.\n",
    "\n",
    "We'll use `boto3` and a `pystac` custom IO to write the STAC objects to S3."
   ]
  },
  {
   "cell_type": "code",
   "execution_count": 51,
   "metadata": {},
   "outputs": [],
   "source": [
    "import os\n",
    "import sys\n",
    "import pystac\n",
    "import botocore\n",
    "import boto3\n",
    "import shutil\n",
    "from pystac.stac_io import DefaultStacIO, StacIO\n",
    "from urllib.parse import urlparse\n",
    "\n",
    "aws_access_key_id = \"test\" \n",
    "aws_secret_access_key = \"test\" \n",
    "region_name = \"us-east-1\"\n",
    "endpoint_url = \"http://localstack:4566\"\n",
    "\n",
    "class CustomStacIO(DefaultStacIO):\n",
    "    \"\"\"Custom STAC IO class that uses boto3 to read from S3.\"\"\"\n",
    "\n",
    "    def __init__(self):\n",
    "        self.session = botocore.session.Session()\n",
    "        self.s3_client = self.session.create_client(\n",
    "            service_name=\"s3\",\n",
    "            use_ssl=True,\n",
    "            aws_access_key_id=aws_access_key_id,\n",
    "            aws_secret_access_key=aws_secret_access_key,\n",
    "            endpoint_url=endpoint_url,\n",
    "            region_name=region_name,\n",
    "        )\n",
    "\n",
    "    def write_text(self, dest, txt, *args, **kwargs):\n",
    "        parsed = urlparse(dest)\n",
    "        if parsed.scheme == \"s3\":\n",
    "            self.s3_client.put_object(\n",
    "                Body=txt.encode(\"UTF-8\"),\n",
    "                Bucket=parsed.netloc,\n",
    "                Key=parsed.path[1:],\n",
    "                ContentType=\"application/geo+json\",\n",
    "            )\n",
    "        else:\n",
    "            super().write_text(dest, txt, *args, **kwargs)\n",
    "\n",
    "\n",
    "client = boto3.client(\n",
    "    \"s3\",\n",
    "    aws_access_key_id=aws_access_key_id,\n",
    "    aws_secret_access_key=aws_secret_access_key,\n",
    "    endpoint_url=endpoint_url,\n",
    "    region_name=region_name,\n",
    ")\n",
    "\n",
    "StacIO.set_default(CustomStacIO)\n"
   ]
  },
  {
   "cell_type": "code",
   "execution_count": 59,
   "metadata": {},
   "outputs": [],
   "source": [
    "@click.command(\n",
    "    short_help=\"Crop\",\n",
    "    help=\"Water bodies detection using the Normalized Difference Water Index (NDWI) and Otsu thresholding.\",\n",
    ")\n",
    "@click.option(\n",
    "    \"--stac-catalog\",\n",
    "    \"cat_url\",\n",
    "    help=\"STAC catalog to stage-out\",\n",
    "    required=True,\n",
    ")\n",
    "@click.option(\n",
    "    \"--s3-bucket\",\n",
    "    \"bucket\",\n",
    "    help=\"S3 bucket\",\n",
    "    required=True,\n",
    ")\n",
    "@click.option(\n",
    "    \"--subfolder\",\n",
    "    \"subfolder\",\n",
    "    help=\"Folder in S3 bucket\",\n",
    "    required=True,\n",
    ")\n",
    "def stage_out(cat_url, bucket, subfolder):\n",
    "\n",
    "    shutil.copytree(cat_url, \"/tmp/catalog\")\n",
    "    cat = pystac.read_file(os.path.join(\"/tmp/catalog\", \"catalog.json\"))\n",
    "\n",
    "    for item in cat.get_items():\n",
    "        for key, asset in item.get_assets().items():\n",
    "            s3_path = os.path.normpath(\n",
    "                os.path.join(os.path.join(subfolder, item.id, asset.href))\n",
    "            )\n",
    "            logger.info(f\"upload {asset.href} to s3://{bucket}/{s3_path}\",file=sys.stderr)\n",
    "            client.upload_file(\n",
    "                asset.get_absolute_href(),\n",
    "                bucket,\n",
    "                s3_path,\n",
    "            )\n",
    "            asset.href = f\"s3://{bucket}/{s3_path}\"\n",
    "            item.add_asset(key, asset)\n",
    "\n",
    "    cat.normalize_hrefs(f\"s3://{bucket}/{subfolder}\")\n",
    "\n",
    "    for item in cat.get_items():\n",
    "        # upload item to S3\n",
    "        logger.info(f\"upload {item.id} to s3://{bucket}/{subfolder}\", file=sys.stderr)\n",
    "        pystac.write_file(item, item.get_self_href())\n",
    "\n",
    "    # upload catalog to S3\n",
    "    logger.info(f\"upload catalog.json to s3://{bucket}/{subfolder}\", file=sys.stderr)\n",
    "    pystac.write_file(cat, cat.get_self_href())\n",
    "\n",
    "    shutil.rmtree(\"/tmp/catalog/\", )\n",
    "\n",
    "    print(f\"s3://{bucket}/{subfolder}/catalog.json\", file=sys.stdout)"
   ]
  },
  {
   "cell_type": "markdown",
   "metadata": {},
   "source": [
    "We can print the stage-out help:"
   ]
  },
  {
   "cell_type": "code",
   "execution_count": 60,
   "metadata": {},
   "outputs": [
    {
     "name": "stdout",
     "output_type": "stream",
     "text": [
      "Usage: stage-out [OPTIONS]\n",
      "\n",
      "  Water bodies detection using the Normalized Difference Water Index (NDWI) and\n",
      "  Otsu thresholding.\n",
      "\n",
      "Options:\n",
      "  --stac-catalog TEXT  STAC catalog to stage-out  [required]\n",
      "  --s3-bucket TEXT     S3 bucket  [required]\n",
      "  --subfolder TEXT     Folder in S3 bucket  [required]\n",
      "  --help               Show this message and exit.\n",
      "\n"
     ]
    }
   ],
   "source": [
    "from click.testing import CliRunner\n",
    "\n",
    "runner = CliRunner()\n",
    "result = runner.invoke(stage_out, ['--help'])\n",
    "\n",
    "print(result.output)"
   ]
  },
  {
   "cell_type": "markdown",
   "metadata": {},
   "source": [
    "And invoke it:\n",
    "\n"
   ]
  },
  {
   "cell_type": "code",
   "execution_count": 61,
   "metadata": {},
   "outputs": [
    {
     "name": "stderr",
     "output_type": "stream",
     "text": [
      "\u001b[32m2024-10-08 05:48:30.419\u001b[0m | \u001b[1mINFO    \u001b[0m | \u001b[36m__main__\u001b[0m:\u001b[36mstage_out\u001b[0m:\u001b[36m33\u001b[0m - \u001b[1mupload ./otsu.tif to s3://results/run-003/LC09_L2SP_042033_20231015_02_T1/otsu.tif\u001b[0m\n",
      "\u001b[32m2024-10-08 05:48:30.434\u001b[0m | \u001b[1mINFO    \u001b[0m | \u001b[36m__main__\u001b[0m:\u001b[36mstage_out\u001b[0m:\u001b[36m46\u001b[0m - \u001b[1mupload LC09_L2SP_042033_20231015_02_T1 to s3://results/run-003\u001b[0m\n",
      "\u001b[32m2024-10-08 05:48:30.634\u001b[0m | \u001b[1mINFO    \u001b[0m | \u001b[36m__main__\u001b[0m:\u001b[36mstage_out\u001b[0m:\u001b[36m50\u001b[0m - \u001b[1mupload catalog.json to s3://results/run-003\u001b[0m\n"
     ]
    },
    {
     "name": "stdout",
     "output_type": "stream",
     "text": [
      "s3://results/run-003/catalog.json\n",
      "\n"
     ]
    }
   ],
   "source": [
    "arguments = [\"--stac-catalog\", \".\", \n",
    "            \"--s3-bucket\", \"results\", \n",
    "            \"--subfolder\", \"run-003\"]\n",
    "\n",
    "runner = CliRunner()\n",
    "result = runner.invoke(stage_out, args=arguments)\n",
    "\n",
    "print(result.output)"
   ]
  },
  {
   "cell_type": "code",
   "execution_count": null,
   "metadata": {},
   "outputs": [],
   "source": []
  }
 ],
 "metadata": {
  "kernelspec": {
   "display_name": "stac-eoap",
   "language": "python",
   "name": "python3"
  },
  "language_info": {
   "codemirror_mode": {
    "name": "ipython",
    "version": 3
   },
   "file_extension": ".py",
   "mimetype": "text/x-python",
   "name": "python",
   "nbconvert_exporter": "python",
   "pygments_lexer": "ipython3",
   "version": "3.9.18"
  }
 },
 "nbformat": 4,
 "nbformat_minor": 2
}
