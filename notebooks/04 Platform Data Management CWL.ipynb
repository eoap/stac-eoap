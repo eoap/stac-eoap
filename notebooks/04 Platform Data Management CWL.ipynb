{
 "cells": [
  {
   "cell_type": "markdown",
   "metadata": {},
   "source": [
    "# Platform data management using CWL\n",
    "\n",
    "This notebook uses the Python kernel.\n",
    "\n",
    "This notebook reproduces the Platform Data Management using CWL, it:\n",
    "- executes the stage-in with a reference to catalog entry containing a Landsat-9 STAC Item \n",
    "- uses the folder produced by the stage-in step as input for the Application Package execution\n",
    "- executes the stage-out with as input the S3 parameters and the folder produced by the Application Package execution"
   ]
  },
  {
   "cell_type": "code",
   "execution_count": 35,
   "metadata": {},
   "outputs": [],
   "source": [
    "import os\n",
    "from os import listdir\n",
    "import argparse\n",
    "import yaml\n",
    "import json\n",
    "import pystac\n",
    "from cwltool.main import main\n",
    "from io import StringIO\n"
   ]
  },
  {
   "cell_type": "markdown",
   "metadata": {},
   "source": [
    "## Stage-in the Landsat-9 scene using CWL"
   ]
  },
  {
   "cell_type": "markdown",
   "metadata": {},
   "source": [
    "Create the job order for `cwltool`.\n",
    "\n",
    "It contains the reference to catalog entry containing a Landsat-9 STAC Item "
   ]
  },
  {
   "cell_type": "code",
   "execution_count": 4,
   "metadata": {},
   "outputs": [],
   "source": [
    "# create the YAML parameter file for cwltool\n",
    "with open(\"stage-in-params.yaml\", \"w\") as f:\n",
    "    yaml.dump({\"reference\": \"https://planetarycomputer.microsoft.com/api/stac/v1/collections/landsat-c2-l2/items/LC09_L2SP_042033_20231015_02_T1\"}, f)"
   ]
  },
  {
   "cell_type": "markdown",
   "metadata": {},
   "source": [
    "Invoke the `stage-in.cwl` with `cwltool`:"
   ]
  },
  {
   "cell_type": "code",
   "execution_count": 5,
   "metadata": {},
   "outputs": [
    {
     "name": "stderr",
     "output_type": "stream",
     "text": [
      "\u001b[1;30mINFO\u001b[0m /workspace/.venv/lib/python3.9/site-packages/ipykernel_launcher.py 3.1.20240909164951\n",
      "\u001b[1;30mINFO\u001b[0m Resolved 'cwl-cli/stage-in.cwl' to 'file:///workspace/stac-eoap/notebooks/cwl-cli/stage-in.cwl'\n",
      "\u001b[1;30mINFO\u001b[0m [job main] /tmp/6wllcrmb$ podman \\\n",
      "    run \\\n",
      "    -i \\\n",
      "    --userns=keep-id \\\n",
      "    --mount=type=bind,source=/tmp/6wllcrmb,target=/OKsJRa \\\n",
      "    --mount=type=bind,source=/tmp/01twnvfj,target=/tmp \\\n",
      "    --workdir=/OKsJRa \\\n",
      "    --read-only=true \\\n",
      "    --user=1001:100 \\\n",
      "    --rm \\\n",
      "    --cidfile=/tmp/odrdgjmb/20241007125131-693626.cid \\\n",
      "    --env=TMPDIR=/tmp \\\n",
      "    --env=HOME=/OKsJRa \\\n",
      "    ghcr.io/eoap/mastering-app-package/stage:1.0.0 \\\n",
      "    python \\\n",
      "    stage.py \\\n",
      "    https://planetarycomputer.microsoft.com/api/stac/v1/collections/landsat-c2-l2/items/LC09_L2SP_042033_20231015_02_T1\n",
      "\u001b[1;30mINFO\u001b[0m [job main] Max memory used: 4621MiB\n",
      "\u001b[1;30mINFO\u001b[0m [job main] completed success\n",
      "\u001b[1;30mINFO\u001b[0m Final process status is success\n"
     ]
    }
   ],
   "source": [
    "parsed_args = argparse.Namespace(\n",
    "    podman=True,\n",
    "    debug=False,\n",
    "    outdir=\"./runs\",\n",
    "    workflow=\"cwl-cli/stage-in.cwl\",\n",
    "    job_order=[\"stage-in-params.yaml\"],\n",
    ")\n",
    "\n",
    "stream_out = StringIO()\n",
    "stream_err = StringIO()\n",
    "\n",
    "res = main(\n",
    "    args=parsed_args,\n",
    "    stdout=stream_out,\n",
    ")\n",
    "\n",
    "assert res == 0"
   ]
  },
  {
   "cell_type": "markdown",
   "metadata": {},
   "source": [
    "Inspect the results and retrieve the folder where the Landsat-9 acquisition was staged:"
   ]
  },
  {
   "cell_type": "code",
   "execution_count": 15,
   "metadata": {},
   "outputs": [
    {
     "data": {
      "text/plain": [
       "'/workspace/stac-eoap/notebooks/runs/6wllcrmb'"
      ]
     },
     "execution_count": 15,
     "metadata": {},
     "output_type": "execute_result"
    }
   ],
   "source": [
    "stage_in_results = json.loads(stream_out.getvalue())\n",
    "\n",
    "staged = stage_in_results[\"staged\"][\"location\"].replace(\"file://\", \"\")\n",
    "\n",
    "staged"
   ]
  },
  {
   "cell_type": "code",
   "execution_count": 32,
   "metadata": {},
   "outputs": [
    {
     "data": {
      "text/plain": [
       "['catalog.json', 'LC09_L2SP_042033_20231015_02_T1', 'stage.py']"
      ]
     },
     "execution_count": 32,
     "metadata": {},
     "output_type": "execute_result"
    }
   ],
   "source": [
    "listdir(staged)"
   ]
  },
  {
   "cell_type": "markdown",
   "metadata": {},
   "source": [
    "Optionally inspect the staged STAC Catalog:"
   ]
  },
  {
   "cell_type": "code",
   "execution_count": 37,
   "metadata": {},
   "outputs": [
    {
     "name": "stdout",
     "output_type": "stream",
     "text": [
      "* <Catalog id=catalog>\n",
      "  * <Item id=LC09_L2SP_042033_20231015_02_T1>\n"
     ]
    }
   ],
   "source": [
    "staged_catalog = pystac.read_file(os.path.join(staged, \"catalog.json\"))\n",
    "\n",
    "staged_catalog.describe()\n"
   ]
  },
  {
   "cell_type": "code",
   "execution_count": 42,
   "metadata": {},
   "outputs": [
    {
     "name": "stdout",
     "output_type": "stream",
     "text": [
      "qa <Asset href=./LC09_L2SP_042033_20231015_20231016_02_T1_ST_QA.TIF>\n",
      "ang <Asset href=./LC09_L2SP_042033_20231015_20231016_02_T1_ANG.txt>\n",
      "red <Asset href=./LC09_L2SP_042033_20231015_20231016_02_T1_SR_B4.TIF>\n",
      "blue <Asset href=./LC09_L2SP_042033_20231015_20231016_02_T1_SR_B2.TIF>\n",
      "drad <Asset href=./LC09_L2SP_042033_20231015_20231016_02_T1_ST_DRAD.TIF>\n",
      "emis <Asset href=./LC09_L2SP_042033_20231015_20231016_02_T1_ST_EMIS.TIF>\n",
      "emsd <Asset href=./LC09_L2SP_042033_20231015_20231016_02_T1_ST_EMSD.TIF>\n",
      "trad <Asset href=./LC09_L2SP_042033_20231015_20231016_02_T1_ST_TRAD.TIF>\n",
      "urad <Asset href=./LC09_L2SP_042033_20231015_20231016_02_T1_ST_URAD.TIF>\n",
      "atran <Asset href=./LC09_L2SP_042033_20231015_20231016_02_T1_ST_ATRAN.TIF>\n",
      "cdist <Asset href=./LC09_L2SP_042033_20231015_20231016_02_T1_ST_CDIST.TIF>\n",
      "green <Asset href=./LC09_L2SP_042033_20231015_20231016_02_T1_SR_B3.TIF>\n",
      "nir08 <Asset href=./LC09_L2SP_042033_20231015_20231016_02_T1_SR_B5.TIF>\n",
      "lwir11 <Asset href=./LC09_L2SP_042033_20231015_20231016_02_T1_ST_B10.TIF>\n",
      "swir16 <Asset href=./LC09_L2SP_042033_20231015_20231016_02_T1_SR_B6.TIF>\n",
      "swir22 <Asset href=./LC09_L2SP_042033_20231015_20231016_02_T1_SR_B7.TIF>\n",
      "coastal <Asset href=./LC09_L2SP_042033_20231015_20231016_02_T1_SR_B1.TIF>\n",
      "mtl.txt <Asset href=./LC09_L2SP_042033_20231015_20231016_02_T1_MTL.txt>\n",
      "mtl.xml <Asset href=./LC09_L2SP_042033_20231015_20231016_02_T1_MTL.xml>\n",
      "mtl.json <Asset href=./LC09_L2SP_042033_20231015_20231016_02_T1_MTL.json>\n",
      "qa_pixel <Asset href=./LC09_L2SP_042033_20231015_20231016_02_T1_QA_PIXEL.TIF>\n",
      "qa_radsat <Asset href=./LC09_L2SP_042033_20231015_20231016_02_T1_QA_RADSAT.TIF>\n",
      "qa_aerosol <Asset href=./LC09_L2SP_042033_20231015_20231016_02_T1_SR_QA_AEROSOL.TIF>\n",
      "tilejson <Asset href=./tilejson.json>\n",
      "rendered_preview <Asset href=./preview.png>\n"
     ]
    }
   ],
   "source": [
    "item = next(staged_catalog.get_items())\n",
    "\n",
    "for key, asset in item.get_assets().items():\n",
    "    print(key, asset)"
   ]
  },
  {
   "cell_type": "markdown",
   "metadata": {},
   "source": [
    "## Invoke the application package with the staged Landsat-9 scene\n",
    "\n",
    "Create the job order for `cwltool`.\n",
    "\n",
    "It contains the path to the staged Landsat-9 and the Application Package parameters: "
   ]
  },
  {
   "cell_type": "code",
   "execution_count": 19,
   "metadata": {},
   "outputs": [],
   "source": [
    "\n",
    "# create the YAML parameter file\n",
    "with open(\"params.yaml\", \"w\") as f:\n",
    "    f.write(yaml.dump({\"item\": {\"class\": \"Directory\", \"path\": staged}, \"aoi\": \"-118.985,38.432,-118.183,38.938\", \"epsg\": \"EPSG:4326\", \"bands\": [\"green\", \"nir08\"]}))\n"
   ]
  },
  {
   "cell_type": "markdown",
   "metadata": {},
   "source": [
    "Invoke the Application Package with `cwltool`:"
   ]
  },
  {
   "cell_type": "code",
   "execution_count": 23,
   "metadata": {},
   "outputs": [
    {
     "name": "stderr",
     "output_type": "stream",
     "text": [
      "\u001b[1;30mINFO\u001b[0m /workspace/.venv/lib/python3.9/site-packages/ipykernel_launcher.py 3.1.20240909164951\n",
      "\u001b[1;30mINFO\u001b[0m Resolved 'cwl-workflow/app-water-bodies.cwl' to 'file:///workspace/stac-eoap/notebooks/cwl-workflow/app-water-bodies.cwl'\n",
      "\u001b[1;30mINFO\u001b[0m [workflow _4] start\n",
      "\u001b[1;30mINFO\u001b[0m [workflow _4] starting step node_detect_4\n",
      "\u001b[1;30mINFO\u001b[0m [step node_detect_4] start\n",
      "\u001b[1;30mWARNING\u001b[0m \u001b[33m[job node_detect_4] Skipping Docker software container '--memory' limit despite presence of ResourceRequirement with ramMin and/or ramMax setting. Consider running with --strict-memory-limit for increased portability assurance.\u001b[0m\n",
      "\u001b[1;30mWARNING\u001b[0m \u001b[33m[job node_detect_4] Skipping Docker software container '--cpus' limit despite presence of ResourceRequirement with coresMin and/or coresMax setting. Consider running with --strict-cpu-limit for increased portability assurance.\u001b[0m\n",
      "\u001b[1;30mINFO\u001b[0m [job node_detect_4] /tmp/iluwlpiu$ podman \\\n",
      "    run \\\n",
      "    -i \\\n",
      "    --userns=keep-id \\\n",
      "    --mount=type=bind,source=/tmp/iluwlpiu,target=/OKsJRa \\\n",
      "    --mount=type=bind,source=/tmp/_evs452e,target=/tmp \\\n",
      "    --mount=type=bind,source=/workspace/stac-eoap/notebooks/runs/6wllcrmb,target=/var/lib/cwl/stgee28c509-f435-4404-8bf6-43ab8be9e5aa/6wllcrmb,readonly \\\n",
      "    --workdir=/OKsJRa \\\n",
      "    --read-only=true \\\n",
      "    --user=1001:100 \\\n",
      "    --rm \\\n",
      "    --cidfile=/tmp/f4rx6smn/20241007130050-584601.cid \\\n",
      "    --env=TMPDIR=/tmp \\\n",
      "    --env=HOME=/OKsJRa \\\n",
      "    ghcr.io/eoap/quickwin/detect-water-body@sha256:e7ae9cd60e197f54c2890584257c709ae70b5eba4f8fbc74912f6c52d9ff39c4 \\\n",
      "    python \\\n",
      "    -m \\\n",
      "    app \\\n",
      "    --band \\\n",
      "    green \\\n",
      "    --aoi \\\n",
      "    -118.985,38.432,-118.183,38.938 \\\n",
      "    --epsg \\\n",
      "    EPSG:4326 \\\n",
      "    --input-item \\\n",
      "    /var/lib/cwl/stgee28c509-f435-4404-8bf6-43ab8be9e5aa/6wllcrmb \\\n",
      "    --band \\\n",
      "    nir08\n",
      "\u001b[1;30mINFO\u001b[0m [job node_detect_4] Max memory used: 4402MiB\n",
      "\u001b[1;30mINFO\u001b[0m [job node_detect_4] completed success\n",
      "\u001b[1;30mINFO\u001b[0m [step node_detect_4] completed success\n",
      "\u001b[1;30mINFO\u001b[0m [workflow _4] completed success\n",
      "\u001b[1;30mINFO\u001b[0m Final process status is success\n"
     ]
    }
   ],
   "source": [
    "\n",
    "\n",
    "parsed_args = argparse.Namespace(\n",
    "    podman=True,\n",
    "    debug=False,\n",
    "    outdir=\"./runs\",\n",
    "    workflow=\"cwl-workflow/app-water-bodies.cwl\",\n",
    "    job_order=[\"params.yaml\"],\n",
    ")\n",
    "\n",
    "stream_out = StringIO()\n",
    "stream_err = StringIO()\n",
    "\n",
    "res = main(\n",
    "    args=parsed_args,\n",
    "    stdout=stream_out,\n",
    ")\n",
    "\n",
    "assert res == 0"
   ]
  },
  {
   "cell_type": "markdown",
   "metadata": {},
   "source": [
    "Inspect the results and retrieve the folder where the Application Package results where produced:"
   ]
  },
  {
   "cell_type": "code",
   "execution_count": 29,
   "metadata": {},
   "outputs": [
    {
     "data": {
      "text/plain": [
       "'/workspace/stac-eoap/notebooks/runs/iluwlpiu'"
      ]
     },
     "execution_count": 29,
     "metadata": {},
     "output_type": "execute_result"
    }
   ],
   "source": [
    "app_results = json.loads(stream_out.getvalue())\n",
    "\n",
    "processed = app_results[\"stac_catalog\"][\"location\"].replace(\"file://\", \"\")\n",
    "\n",
    "processed"
   ]
  },
  {
   "cell_type": "code",
   "execution_count": 33,
   "metadata": {},
   "outputs": [
    {
     "data": {
      "text/plain": [
       "['catalog.json', 'LC09_L2SP_042033_20231015_02_T1', '__pycache__', 'app.py']"
      ]
     },
     "execution_count": 33,
     "metadata": {},
     "output_type": "execute_result"
    }
   ],
   "source": [
    "listdir(processed)"
   ]
  },
  {
   "cell_type": "markdown",
   "metadata": {},
   "source": [
    "Optionally inspect the STAC Catalog generated by the Application Package:"
   ]
  },
  {
   "cell_type": "code",
   "execution_count": 43,
   "metadata": {},
   "outputs": [
    {
     "name": "stdout",
     "output_type": "stream",
     "text": [
      "* <Catalog id=catalog>\n",
      "  * <Item id=LC09_L2SP_042033_20231015_02_T1>\n"
     ]
    }
   ],
   "source": [
    "processed_catalog = pystac.read_file(os.path.join(processed, \"catalog.json\"))\n",
    "\n",
    "processed_catalog.describe()\n"
   ]
  },
  {
   "cell_type": "code",
   "execution_count": 44,
   "metadata": {},
   "outputs": [
    {
     "name": "stdout",
     "output_type": "stream",
     "text": [
      "data <Asset href=./otsu.tif>\n"
     ]
    }
   ],
   "source": [
    "\n",
    "item = next(processed_catalog.get_items())\n",
    "\n",
    "for key, asset in item.get_assets().items():\n",
    "    print(key, asset)"
   ]
  },
  {
   "cell_type": "markdown",
   "metadata": {},
   "source": [
    "## Stage-out\n",
    "\n",
    "Create the job order for `cwltool`.\n",
    "\n",
    "It contains the path to the folder containing the Application Package results and the S3 object storage parameters:\n"
   ]
  },
  {
   "cell_type": "code",
   "execution_count": 47,
   "metadata": {},
   "outputs": [],
   "source": [
    "# create the YAML parameter file\n",
    "with open(\"stage-out-params.yaml\", \"w\") as f:\n",
    "    yaml.dump({\"stac_catalog\": {\"class\": \"Directory\", \"path\": processed}, \"aws_access_key_id\": \"test\", \n",
    "             \"aws_secret_access_key\": \"test\",\n",
    "             \"endpoint_url\": \"http://localstack:4566\", \n",
    "                \"s3_bucket\": \"results\",\n",
    "                 \"sub_path\": \"run-004\", \n",
    "                 \"region_name\": \"us-east-1\"}, f)"
   ]
  },
  {
   "cell_type": "markdown",
   "metadata": {},
   "source": [
    "Invoke the `stage-out.cwl` CWL document with `cwltool`:"
   ]
  },
  {
   "cell_type": "code",
   "execution_count": 48,
   "metadata": {},
   "outputs": [
    {
     "name": "stderr",
     "output_type": "stream",
     "text": [
      "\u001b[1;30mINFO\u001b[0m /workspace/.venv/lib/python3.9/site-packages/ipykernel_launcher.py 3.1.20240909164951\n",
      "\u001b[1;30mINFO\u001b[0m Resolved 'cwl-cli/stage-out.cwl' to 'file:///workspace/stac-eoap/notebooks/cwl-cli/stage-out.cwl'\n"
     ]
    },
    {
     "name": "stderr",
     "output_type": "stream",
     "text": [
      "\u001b[1;30mINFO\u001b[0m [job stage-out_2] /tmp/kgyxnpiy$ podman \\\n",
      "    run \\\n",
      "    -i \\\n",
      "    --userns=keep-id \\\n",
      "    --mount=type=bind,source=/tmp/kgyxnpiy,target=/OKsJRa \\\n",
      "    --mount=type=bind,source=/tmp/tk7yhj_f,target=/tmp \\\n",
      "    --mount=type=bind,source=/workspace/stac-eoap/notebooks/runs/iluwlpiu,target=/var/lib/cwl/stg680f45e3-3caf-414f-95bc-df8a6188820f/iluwlpiu,readonly \\\n",
      "    --workdir=/OKsJRa \\\n",
      "    --read-only=true \\\n",
      "    --user=1001:100 \\\n",
      "    --rm \\\n",
      "    --cidfile=/tmp/tblgjetb/20241007130945-454058.cid \\\n",
      "    --env=TMPDIR=/tmp \\\n",
      "    --env=HOME=/OKsJRa \\\n",
      "    --env=aws_access_key_id=test \\\n",
      "    --env=aws_endpoint_url=http://localstack:4566 \\\n",
      "    --env=aws_region_name=us-east-1 \\\n",
      "    --env=aws_secret_access_key=test \\\n",
      "    ghcr.io/eoap/mastering-app-package/stage:1.0.0 \\\n",
      "    python \\\n",
      "    stage.py \\\n",
      "    /var/lib/cwl/stg680f45e3-3caf-414f-95bc-df8a6188820f/iluwlpiu \\\n",
      "    results \\\n",
      "    run-004\n",
      "\u001b[1;30mINFO\u001b[0m [job stage-out_2] Max memory used: 4316MiB\n",
      "\u001b[1;30mINFO\u001b[0m [job stage-out_2] completed success\n",
      "\u001b[1;30mINFO\u001b[0m Final process status is success\n"
     ]
    }
   ],
   "source": [
    "parsed_args = argparse.Namespace(\n",
    "    podman=True,\n",
    "    debug=False,\n",
    "    outdir=\"./runs\",\n",
    "    workflow=\"cwl-cli/stage-out.cwl\",\n",
    "    job_order=[\"stage-out-params.yaml\"],\n",
    ")\n",
    "\n",
    "stream_out = StringIO()\n",
    "stream_err = StringIO()\n",
    "\n",
    "res = main(\n",
    "    args=parsed_args,\n",
    "    stdout=stream_out,\n",
    ")\n",
    "\n",
    "assert res == 0"
   ]
  },
  {
   "cell_type": "markdown",
   "metadata": {},
   "source": [
    "Inspect the results and print the S3 URL to the staged-out `catalog.json` file and associated STAC Item and assets:"
   ]
  },
  {
   "cell_type": "code",
   "execution_count": 51,
   "metadata": {},
   "outputs": [
    {
     "data": {
      "text/plain": [
       "'s3://results/run-004/catalog.json'"
      ]
     },
     "execution_count": 51,
     "metadata": {},
     "output_type": "execute_result"
    }
   ],
   "source": [
    "stage_out_results = stream_out.getvalue()\n",
    "\n",
    "json.loads(stage_out_results)[\"s3_catalog_output\"]"
   ]
  },
  {
   "cell_type": "code",
   "execution_count": null,
   "metadata": {},
   "outputs": [],
   "source": []
  }
 ],
 "metadata": {
  "kernelspec": {
   "display_name": "Python 3",
   "language": "python",
   "name": "python3"
  },
  "language_info": {
   "codemirror_mode": {
    "name": "ipython",
    "version": 3
   },
   "file_extension": ".py",
   "mimetype": "text/x-python",
   "name": "python",
   "nbconvert_exporter": "python",
   "pygments_lexer": "ipython3",
   "version": "3.9.18"
  }
 },
 "nbformat": 4,
 "nbformat_minor": 2
}
